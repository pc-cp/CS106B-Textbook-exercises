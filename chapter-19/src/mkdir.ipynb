{
 "cells": [
  {
   "cell_type": "code",
   "execution_count": 2,
   "id": "e483f16d-07c4-43f2-ae41-8d34f00cbfa9",
   "metadata": {},
   "outputs": [],
   "source": [
    "import os\n",
    "\n",
    "\n",
    "if not os.path.exists(\"chapterCode\"):\n",
    "        os.makedirs(\"chapterCode\")\n",
    "    \n",
    "dirName = \"Ex-17\"\n",
    "\n",
    "for num in range(1, 10):\n",
    "    fileName = dirName + '-{}'.format(num)\n",
    "    if not os.path.exists(fileName):\n",
    "        os.makedirs(fileName)\n",
    "    # os.system('cd ../')\n",
    "    # os.system('cp chapter-6/* {}'.format(chapterName))\n",
    "    # print(chapterName)"
   ]
  }
 ],
 "metadata": {
  "kernelspec": {
   "display_name": "Python 3 (ipykernel)",
   "language": "python",
   "name": "python3"
  },
  "language_info": {
   "codemirror_mode": {
    "name": "ipython",
    "version": 3
   },
   "file_extension": ".py",
   "mimetype": "text/x-python",
   "name": "python",
   "nbconvert_exporter": "python",
   "pygments_lexer": "ipython3",
   "version": "3.11.5"
  }
 },
 "nbformat": 4,
 "nbformat_minor": 5
}
